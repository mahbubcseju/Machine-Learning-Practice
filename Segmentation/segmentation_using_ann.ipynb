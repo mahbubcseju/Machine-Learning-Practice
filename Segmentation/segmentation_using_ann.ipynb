{
 "cells": [
  {
   "cell_type": "code",
   "execution_count": 1,
   "metadata": {},
   "outputs": [],
   "source": [
    "import numpy as np\n",
    "import matplotlib.pyplot as matplot\n",
    "import pandas as pd\n"
   ]
  },
  {
   "cell_type": "code",
   "execution_count": 2,
   "metadata": {},
   "outputs": [],
   "source": [
    "dataset = pd.read_csv(\"Churn_Modelling.csv\")\n",
    "\n",
    "x = dataset.iloc[:,3:13].values\n",
    "y= dataset.iloc[:,13].values"
   ]
  },
  {
   "cell_type": "markdown",
   "metadata": {},
   "source": [
    "<p>One hot encoding and categorical encoding</p>"
   ]
  },
  {
   "cell_type": "code",
   "execution_count": 3,
   "metadata": {},
   "outputs": [],
   "source": [
    "from sklearn.preprocessing import LabelEncoder, OneHotEncoder\n",
    "label_encoder_x1=LabelEncoder()\n",
    "x[:,1]=label_encoder_x1.fit_transform(x[:,1])\n",
    "label_encoder_x2 = LabelEncoder()\n",
    "x[:,2]=label_encoder_x2.fit_transform(x[:,2])\n",
    "\n",
    "one_hot_encoder= OneHotEncoder(categorical_features=[1])\n",
    "x=one_hot_encoder.fit_transform(x).toarray()\n",
    "x=x[:,1:]"
   ]
  },
  {
   "cell_type": "markdown",
   "metadata": {},
   "source": [
    "Splitting the data between train and test"
   ]
  },
  {
   "cell_type": "code",
   "execution_count": 4,
   "metadata": {},
   "outputs": [],
   "source": [
    "from sklearn.model_selection import train_test_split\n",
    "x_train,x_test,y_train,y_test=train_test_split(x,y,test_size=0.2,random_state=0)"
   ]
  },
  {
   "cell_type": "markdown",
   "metadata": {},
   "source": [
    "<p> Data Scaling </p>\n"
   ]
  },
  {
   "cell_type": "code",
   "execution_count": 7,
   "metadata": {},
   "outputs": [],
   "source": [
    "from sklearn.preprocessing import StandardScaler\n",
    "standard_scaler=StandardScaler()\n",
    "x_train = standard_scaler.fit_transform(x_train)\n",
    "x_test=standard_scaler.fit_transform(x_test)"
   ]
  },
  {
   "cell_type": "markdown",
   "metadata": {},
   "source": [
    "<p> Building model, compiling model and training the model </p>"
   ]
  },
  {
   "cell_type": "code",
   "execution_count": 8,
   "metadata": {},
   "outputs": [
    {
     "name": "stdout",
     "output_type": "stream",
     "text": [
      "Epoch 1/100\n",
      "8000/8000 [==============================] - 1s 156us/step - loss: 0.4874 - acc: 0.7955\n",
      "Epoch 2/100\n",
      "8000/8000 [==============================] - 1s 93us/step - loss: 0.4275 - acc: 0.7960\n",
      "Epoch 3/100\n",
      "8000/8000 [==============================] - 1s 95us/step - loss: 0.4211 - acc: 0.7970\n",
      "Epoch 4/100\n",
      "8000/8000 [==============================] - 1s 95us/step - loss: 0.4172 - acc: 0.8240\n",
      "Epoch 5/100\n",
      "8000/8000 [==============================] - 1s 97us/step - loss: 0.4149 - acc: 0.8266\n",
      "Epoch 6/100\n",
      "8000/8000 [==============================] - 1s 100us/step - loss: 0.4128 - acc: 0.8297\n",
      "Epoch 7/100\n",
      "8000/8000 [==============================] - 1s 100us/step - loss: 0.4120 - acc: 0.8311\n",
      "Epoch 8/100\n",
      "8000/8000 [==============================] - 1s 99us/step - loss: 0.4106 - acc: 0.8314\n",
      "Epoch 9/100\n",
      "8000/8000 [==============================] - 1s 100us/step - loss: 0.4085 - acc: 0.8340\n",
      "Epoch 10/100\n",
      "8000/8000 [==============================] - 1s 129us/step - loss: 0.4065 - acc: 0.8346\n",
      "Epoch 11/100\n",
      "8000/8000 [==============================] - 1s 101us/step - loss: 0.4046 - acc: 0.8362\n",
      "Epoch 12/100\n",
      "8000/8000 [==============================] - 1s 100us/step - loss: 0.4032 - acc: 0.8351\n",
      "Epoch 13/100\n",
      "8000/8000 [==============================] - 1s 101us/step - loss: 0.4023 - acc: 0.8365\n",
      "Epoch 14/100\n",
      "8000/8000 [==============================] - 1s 104us/step - loss: 0.4012 - acc: 0.8351\n",
      "Epoch 15/100\n",
      "8000/8000 [==============================] - 1s 98us/step - loss: 0.4001 - acc: 0.8350\n",
      "Epoch 16/100\n",
      "8000/8000 [==============================] - 1s 102us/step - loss: 0.3989 - acc: 0.8362\n",
      "Epoch 17/100\n",
      "8000/8000 [==============================] - 1s 99us/step - loss: 0.3990 - acc: 0.8331\n",
      "Epoch 18/100\n",
      "8000/8000 [==============================] - 1s 104us/step - loss: 0.3977 - acc: 0.8350\n",
      "Epoch 19/100\n",
      "8000/8000 [==============================] - 1s 107us/step - loss: 0.3972 - acc: 0.8354\n",
      "Epoch 20/100\n",
      "8000/8000 [==============================] - 1s 104us/step - loss: 0.3975 - acc: 0.8350\n",
      "Epoch 21/100\n",
      "8000/8000 [==============================] - 1s 106us/step - loss: 0.3965 - acc: 0.8356\n",
      "Epoch 22/100\n",
      "8000/8000 [==============================] - 1s 100us/step - loss: 0.3964 - acc: 0.8345\n",
      "Epoch 23/100\n",
      "8000/8000 [==============================] - 1s 104us/step - loss: 0.3969 - acc: 0.8360\n",
      "Epoch 24/100\n",
      "8000/8000 [==============================] - 1s 110us/step - loss: 0.3960 - acc: 0.8347\n",
      "Epoch 25/100\n",
      "8000/8000 [==============================] - 1s 107us/step - loss: 0.3961 - acc: 0.8352\n",
      "Epoch 26/100\n",
      "8000/8000 [==============================] - 1s 100us/step - loss: 0.3958 - acc: 0.8351\n",
      "Epoch 27/100\n",
      "8000/8000 [==============================] - 1s 102us/step - loss: 0.3959 - acc: 0.8345\n",
      "Epoch 28/100\n",
      "8000/8000 [==============================] - 1s 105us/step - loss: 0.3957 - acc: 0.8361\n",
      "Epoch 29/100\n",
      "8000/8000 [==============================] - 1s 104us/step - loss: 0.3952 - acc: 0.8355\n",
      "Epoch 30/100\n",
      "8000/8000 [==============================] - 1s 99us/step - loss: 0.3950 - acc: 0.8359\n",
      "Epoch 31/100\n",
      "8000/8000 [==============================] - 1s 104us/step - loss: 0.3953 - acc: 0.8346\n",
      "Epoch 32/100\n",
      "8000/8000 [==============================] - 1s 100us/step - loss: 0.3950 - acc: 0.8342\n",
      "Epoch 33/100\n",
      "8000/8000 [==============================] - 1s 109us/step - loss: 0.3948 - acc: 0.8350\n",
      "Epoch 34/100\n",
      "8000/8000 [==============================] - 1s 101us/step - loss: 0.3949 - acc: 0.8362\n",
      "Epoch 35/100\n",
      "8000/8000 [==============================] - 1s 100us/step - loss: 0.3947 - acc: 0.8359\n",
      "Epoch 36/100\n",
      "8000/8000 [==============================] - 1s 108us/step - loss: 0.3948 - acc: 0.8364\n",
      "Epoch 37/100\n",
      "8000/8000 [==============================] - 1s 110us/step - loss: 0.3947 - acc: 0.8362\n",
      "Epoch 38/100\n",
      "8000/8000 [==============================] - 1s 102us/step - loss: 0.3938 - acc: 0.8360\n",
      "Epoch 39/100\n",
      "8000/8000 [==============================] - 1s 101us/step - loss: 0.3945 - acc: 0.8360\n",
      "Epoch 40/100\n",
      "8000/8000 [==============================] - 1s 107us/step - loss: 0.3949 - acc: 0.8360\n",
      "Epoch 41/100\n",
      "8000/8000 [==============================] - 1s 103us/step - loss: 0.3944 - acc: 0.8362\n",
      "Epoch 42/100\n",
      "8000/8000 [==============================] - 1s 103us/step - loss: 0.3945 - acc: 0.8349\n",
      "Epoch 43/100\n",
      "8000/8000 [==============================] - 1s 100us/step - loss: 0.3947 - acc: 0.8346\n",
      "Epoch 44/100\n",
      "8000/8000 [==============================] - 1s 110us/step - loss: 0.3942 - acc: 0.8356\n",
      "Epoch 45/100\n",
      "8000/8000 [==============================] - 1s 101us/step - loss: 0.3946 - acc: 0.8361\n",
      "Epoch 46/100\n",
      "8000/8000 [==============================] - 1s 105us/step - loss: 0.3942 - acc: 0.8347\n",
      "Epoch 47/100\n",
      "8000/8000 [==============================] - 1s 95us/step - loss: 0.3943 - acc: 0.8354\n",
      "Epoch 48/100\n",
      "8000/8000 [==============================] - 1s 104us/step - loss: 0.3945 - acc: 0.8365\n",
      "Epoch 49/100\n",
      "8000/8000 [==============================] - 1s 98us/step - loss: 0.3941 - acc: 0.8367\n",
      "Epoch 50/100\n",
      "8000/8000 [==============================] - 1s 102us/step - loss: 0.3945 - acc: 0.8362\n",
      "Epoch 51/100\n",
      "8000/8000 [==============================] - 1s 95us/step - loss: 0.3944 - acc: 0.8371\n",
      "Epoch 52/100\n",
      "8000/8000 [==============================] - 1s 92us/step - loss: 0.3943 - acc: 0.8356\n",
      "Epoch 53/100\n",
      "8000/8000 [==============================] - 1s 92us/step - loss: 0.3946 - acc: 0.8371\n",
      "Epoch 54/100\n",
      "8000/8000 [==============================] - 1s 99us/step - loss: 0.3941 - acc: 0.8371\n",
      "Epoch 55/100\n",
      "8000/8000 [==============================] - 1s 105us/step - loss: 0.3941 - acc: 0.8362\n",
      "Epoch 56/100\n",
      "8000/8000 [==============================] - 1s 98us/step - loss: 0.3939 - acc: 0.8365\n",
      "Epoch 57/100\n",
      "8000/8000 [==============================] - 1s 100us/step - loss: 0.3940 - acc: 0.8375\n",
      "Epoch 58/100\n",
      "8000/8000 [==============================] - 1s 99us/step - loss: 0.3946 - acc: 0.8357\n",
      "Epoch 59/100\n",
      "8000/8000 [==============================] - 1s 101us/step - loss: 0.3938 - acc: 0.8364\n",
      "Epoch 60/100\n",
      "8000/8000 [==============================] - 1s 134us/step - loss: 0.3944 - acc: 0.8365\n",
      "Epoch 61/100\n",
      "8000/8000 [==============================] - 1s 150us/step - loss: 0.3938 - acc: 0.8366\n",
      "Epoch 62/100\n",
      "8000/8000 [==============================] - 1s 135us/step - loss: 0.3939 - acc: 0.8364\n",
      "Epoch 63/100\n",
      "8000/8000 [==============================] - 1s 106us/step - loss: 0.3945 - acc: 0.8359\n",
      "Epoch 64/100\n",
      "8000/8000 [==============================] - 1s 120us/step - loss: 0.3941 - acc: 0.8351\n",
      "Epoch 65/100\n",
      "8000/8000 [==============================] - 1s 113us/step - loss: 0.3938 - acc: 0.8367\n",
      "Epoch 66/100\n",
      "8000/8000 [==============================] - 1s 106us/step - loss: 0.3938 - acc: 0.8360\n",
      "Epoch 67/100\n",
      "8000/8000 [==============================] - 1s 105us/step - loss: 0.3936 - acc: 0.8377\n",
      "Epoch 68/100\n",
      "8000/8000 [==============================] - 1s 105us/step - loss: 0.3941 - acc: 0.8357\n",
      "Epoch 69/100\n",
      "8000/8000 [==============================] - 1s 128us/step - loss: 0.3945 - acc: 0.8365\n",
      "Epoch 70/100\n",
      "8000/8000 [==============================] - 1s 114us/step - loss: 0.3939 - acc: 0.8361\n",
      "Epoch 71/100\n",
      "8000/8000 [==============================] - 1s 140us/step - loss: 0.3940 - acc: 0.8379\n",
      "Epoch 72/100\n",
      "8000/8000 [==============================] - 1s 154us/step - loss: 0.3941 - acc: 0.8359\n",
      "Epoch 73/100\n",
      "8000/8000 [==============================] - 1s 169us/step - loss: 0.3935 - acc: 0.8364\n",
      "Epoch 74/100\n",
      "8000/8000 [==============================] - 1s 153us/step - loss: 0.3941 - acc: 0.8367\n",
      "Epoch 75/100\n",
      "8000/8000 [==============================] - 1s 135us/step - loss: 0.3941 - acc: 0.8339\n",
      "Epoch 76/100\n",
      "8000/8000 [==============================] - 1s 125us/step - loss: 0.3935 - acc: 0.8365\n",
      "Epoch 77/100\n",
      "8000/8000 [==============================] - 1s 146us/step - loss: 0.3937 - acc: 0.8359\n",
      "Epoch 78/100\n",
      "8000/8000 [==============================] - 1s 133us/step - loss: 0.3936 - acc: 0.8365\n",
      "Epoch 79/100\n",
      "8000/8000 [==============================] - 1s 128us/step - loss: 0.3935 - acc: 0.8365\n",
      "Epoch 80/100\n",
      "8000/8000 [==============================] - 1s 144us/step - loss: 0.3937 - acc: 0.8350\n",
      "Epoch 81/100\n",
      "8000/8000 [==============================] - 1s 145us/step - loss: 0.3937 - acc: 0.8374\n",
      "Epoch 82/100\n",
      "8000/8000 [==============================] - 1s 140us/step - loss: 0.3936 - acc: 0.8372\n",
      "Epoch 83/100\n",
      "8000/8000 [==============================] - 1s 125us/step - loss: 0.3941 - acc: 0.8355\n",
      "Epoch 84/100\n",
      "8000/8000 [==============================] - 1s 155us/step - loss: 0.3929 - acc: 0.8372\n",
      "Epoch 85/100\n",
      "8000/8000 [==============================] - 1s 111us/step - loss: 0.3933 - acc: 0.8362\n",
      "Epoch 86/100\n",
      "8000/8000 [==============================] - 1s 152us/step - loss: 0.3938 - acc: 0.8360\n",
      "Epoch 87/100\n",
      "8000/8000 [==============================] - 1s 170us/step - loss: 0.3933 - acc: 0.8367\n",
      "Epoch 88/100\n",
      "8000/8000 [==============================] - 1s 129us/step - loss: 0.3937 - acc: 0.8356\n",
      "Epoch 89/100\n",
      "8000/8000 [==============================] - 1s 126us/step - loss: 0.3936 - acc: 0.8351\n",
      "Epoch 90/100\n",
      "8000/8000 [==============================] - 1s 126us/step - loss: 0.3934 - acc: 0.8364\n",
      "Epoch 91/100\n",
      "8000/8000 [==============================] - 1s 123us/step - loss: 0.3938 - acc: 0.8351\n",
      "Epoch 92/100\n",
      "8000/8000 [==============================] - 1s 117us/step - loss: 0.3933 - acc: 0.8365\n",
      "Epoch 93/100\n",
      "8000/8000 [==============================] - 1s 121us/step - loss: 0.3935 - acc: 0.8347\n",
      "Epoch 94/100\n",
      "8000/8000 [==============================] - 1s 109us/step - loss: 0.3937 - acc: 0.8362\n",
      "Epoch 95/100\n",
      "8000/8000 [==============================] - 1s 108us/step - loss: 0.3936 - acc: 0.8372\n",
      "Epoch 96/100\n",
      "8000/8000 [==============================] - 1s 104us/step - loss: 0.3938 - acc: 0.8354\n",
      "Epoch 97/100\n",
      "8000/8000 [==============================] - 1s 130us/step - loss: 0.3934 - acc: 0.8350\n",
      "Epoch 98/100\n",
      "8000/8000 [==============================] - 1s 127us/step - loss: 0.3932 - acc: 0.8355\n",
      "Epoch 99/100\n",
      "8000/8000 [==============================] - 1s 145us/step - loss: 0.3937 - acc: 0.8382\n",
      "Epoch 100/100\n",
      "8000/8000 [==============================] - 1s 123us/step - loss: 0.3933 - acc: 0.8361\n"
     ]
    },
    {
     "data": {
      "text/plain": [
       "<keras.callbacks.History at 0x7fb4513242e8>"
      ]
     },
     "execution_count": 8,
     "metadata": {},
     "output_type": "execute_result"
    }
   ],
   "source": [
    "import keras\n",
    "from keras.models import Sequential\n",
    "from keras.layers import Dense\n",
    "\n",
    "#output_dim= number of node in first hidden layer\n",
    "#input_dim = number of node in input layer\n",
    "#First dense will contain the number of input layer and number of hidden layer\n",
    "model_builder = Sequential()\n",
    "model_builder.add(Dense(output_dim=6,init=\"uniform\",activation=\"relu\",input_dim=11))\n",
    "#second hidden layer output_dim is the number of nodes\n",
    "#uniform : the wight between this node and its previous hidden layer node\n",
    "model_builder.add(Dense(output_dim=6,init=\"uniform\",activation=\"relu\"))\n",
    "model_builder.add(Dense(output_dim=1,init=\"uniform\",activation=\"sigmoid\"))\n",
    "\n",
    "#Optimizer is for finding the best algorithm for weight update\n",
    "#Staochastic gradient Descent algorithm : adam\n",
    "model_builder.compile(optimizer=\"adam\",loss=\"binary_crossentropy\",metrics=[\"accuracy\"])\n",
    "model_builder.fit(x_train,y_train,batch_size=10,nb_epoch=100)"
   ]
  },
  {
   "cell_type": "markdown",
   "metadata": {},
   "source": [
    "<p> Prediction: </p>\n"
   ]
  },
  {
   "cell_type": "code",
   "execution_count": 9,
   "metadata": {},
   "outputs": [],
   "source": [
    "\n",
    "y_prediction= model_builder.predict(x_test)\n",
    "y_prediction=(y_prediction>0.5)"
   ]
  },
  {
   "cell_type": "code",
   "execution_count": 10,
   "metadata": {},
   "outputs": [
    {
     "name": "stdout",
     "output_type": "stream",
     "text": [
      "[[0.20487611]]\n"
     ]
    }
   ],
   "source": [
    "#Geography: France\n",
    "#Credit Score: 600\n",
    "#Gender: Male\n",
    "#Age: 40 years old\n",
    "#Tenure: 3 years\n",
    "#Balance: $60000\n",
    "#Number of Products: 2\n",
    "#Does this customer have a credit card ? Yes\n",
    "#Is this customer an Active Member: Yes\n",
    "#Estimated Salary: $50000\n",
    "prediction=model_builder.predict(standard_scaler.fit_transform(np.array([[0,0,600,1,40,3,60000,2,1,1,50000]])))\n",
    "print(prediction)"
   ]
  },
  {
   "cell_type": "code",
   "execution_count": null,
   "metadata": {},
   "outputs": [],
   "source": []
  }
 ],
 "metadata": {
  "kernelspec": {
   "display_name": "Python 3",
   "language": "python",
   "name": "python3"
  },
  "language_info": {
   "codemirror_mode": {
    "name": "ipython",
    "version": 3
   },
   "file_extension": ".py",
   "mimetype": "text/x-python",
   "name": "python",
   "nbconvert_exporter": "python",
   "pygments_lexer": "ipython3",
   "version": "3.7.3"
  }
 },
 "nbformat": 4,
 "nbformat_minor": 2
}
